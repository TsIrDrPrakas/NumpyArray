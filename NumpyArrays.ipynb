{
  "nbformat": 4,
  "nbformat_minor": 0,
  "metadata": {
    "colab": {
      "provenance": [],
      "authorship_tag": "ABX9TyP9F6sJ1SDJSXK7r4jf3UIf",
      "include_colab_link": true
    },
    "kernelspec": {
      "name": "python3",
      "display_name": "Python 3"
    },
    "language_info": {
      "name": "python"
    }
  },
  "cells": [
    {
      "cell_type": "markdown",
      "metadata": {
        "id": "view-in-github",
        "colab_type": "text"
      },
      "source": [
        "<a href=\"https://colab.research.google.com/github/TsIrDrPrakas/NumpyArray/blob/master/NumpyArrays.ipynb\" target=\"_parent\"><img src=\"https://colab.research.google.com/assets/colab-badge.svg\" alt=\"Open In Colab\"/></a>"
      ]
    },
    {
      "cell_type": "markdown",
      "source": [
        "**Import Numpy**"
      ],
      "metadata": {
        "id": "GNGEe6eHX-y0"
      }
    },
    {
      "cell_type": "code",
      "execution_count": 1,
      "metadata": {
        "id": "MBNk-C8vXsv0"
      },
      "outputs": [],
      "source": [
        "import numpy as np"
      ]
    },
    {
      "cell_type": "markdown",
      "source": [
        "Creating Array"
      ],
      "metadata": {
        "id": "xqQ_vAupYNoi"
      }
    },
    {
      "cell_type": "code",
      "source": [
        "mylist = [1,2,3]"
      ],
      "metadata": {
        "id": "UV6thd7fX53f"
      },
      "execution_count": 2,
      "outputs": []
    },
    {
      "cell_type": "code",
      "source": [
        "np.array(mylist)"
      ],
      "metadata": {
        "colab": {
          "base_uri": "https://localhost:8080/",
          "height": 0
        },
        "id": "QFEodJjwYa-3",
        "outputId": "636a9f4e-d7e7-4c58-ec26-acdb0a24b994"
      },
      "execution_count": 3,
      "outputs": [
        {
          "output_type": "execute_result",
          "data": {
            "text/plain": [
              "array([1, 2, 3])"
            ]
          },
          "metadata": {},
          "execution_count": 3
        }
      ]
    },
    {
      "cell_type": "code",
      "source": [
        "nested_list = [[1,2],[3,4],[5,6]]"
      ],
      "metadata": {
        "id": "W_VQ1yL1Ymgl"
      },
      "execution_count": 4,
      "outputs": []
    },
    {
      "cell_type": "code",
      "source": [
        "nested_list"
      ],
      "metadata": {
        "colab": {
          "base_uri": "https://localhost:8080/",
          "height": 0
        },
        "id": "vIsfYv5CY0CI",
        "outputId": "d9e225cf-4176-4915-db86-4ef8984be364"
      },
      "execution_count": 5,
      "outputs": [
        {
          "output_type": "execute_result",
          "data": {
            "text/plain": [
              "[[1, 2], [3, 4], [5, 6]]"
            ]
          },
          "metadata": {},
          "execution_count": 5
        }
      ]
    },
    {
      "cell_type": "code",
      "source": [
        "np.array(nested_list)"
      ],
      "metadata": {
        "colab": {
          "base_uri": "https://localhost:8080/",
          "height": 0
        },
        "id": "kYNfdMl2Y7xc",
        "outputId": "97bc468a-b70f-4d85-ccc8-46dcada9d7a6"
      },
      "execution_count": 6,
      "outputs": [
        {
          "output_type": "execute_result",
          "data": {
            "text/plain": [
              "array([[1, 2],\n",
              "       [3, 4],\n",
              "       [5, 6]])"
            ]
          },
          "metadata": {},
          "execution_count": 6
        }
      ]
    },
    {
      "cell_type": "markdown",
      "source": [
        "Creating automated array with stepsize"
      ],
      "metadata": {
        "id": "Vsc62Vq-ZUQi"
      }
    },
    {
      "cell_type": "code",
      "source": [
        "np.arange(0,10,2)"
      ],
      "metadata": {
        "colab": {
          "base_uri": "https://localhost:8080/",
          "height": 0
        },
        "id": "c4pYqAHCZLRK",
        "outputId": "62c5f035-993b-4dce-9742-8115e520ad09"
      },
      "execution_count": 7,
      "outputs": [
        {
          "output_type": "execute_result",
          "data": {
            "text/plain": [
              "array([0, 2, 4, 6, 8])"
            ]
          },
          "metadata": {},
          "execution_count": 7
        }
      ]
    },
    {
      "cell_type": "markdown",
      "source": [
        "Creating array with zeros (note the zeros are floating point numbers)"
      ],
      "metadata": {
        "id": "eK_NMSwKZmmF"
      }
    },
    {
      "cell_type": "code",
      "source": [
        "np.zeros(3)"
      ],
      "metadata": {
        "colab": {
          "base_uri": "https://localhost:8080/",
          "height": 0
        },
        "id": "YrQMruJjZfD9",
        "outputId": "d3d129cc-6f9f-4bf7-918d-5471643e91f6"
      },
      "execution_count": 8,
      "outputs": [
        {
          "output_type": "execute_result",
          "data": {
            "text/plain": [
              "array([0., 0., 0.])"
            ]
          },
          "metadata": {},
          "execution_count": 8
        }
      ]
    },
    {
      "cell_type": "markdown",
      "source": [
        "Creating Matrix (Row, Column)"
      ],
      "metadata": {
        "id": "RJeEg9GwZs9B"
      }
    },
    {
      "cell_type": "code",
      "source": [
        "np.zeros((4,4))"
      ],
      "metadata": {
        "colab": {
          "base_uri": "https://localhost:8080/",
          "height": 0
        },
        "id": "CUyqEykyaFeT",
        "outputId": "fdd58935-b410-4f6b-e9ce-b5799d5eed0c"
      },
      "execution_count": 9,
      "outputs": [
        {
          "output_type": "execute_result",
          "data": {
            "text/plain": [
              "array([[0., 0., 0., 0.],\n",
              "       [0., 0., 0., 0.],\n",
              "       [0., 0., 0., 0.],\n",
              "       [0., 0., 0., 0.]])"
            ]
          },
          "metadata": {},
          "execution_count": 9
        }
      ]
    },
    {
      "cell_type": "markdown",
      "source": [
        "Repeat above with ONES"
      ],
      "metadata": {
        "id": "osnVWndxad9R"
      }
    },
    {
      "cell_type": "code",
      "source": [
        "np.ones(3)"
      ],
      "metadata": {
        "colab": {
          "base_uri": "https://localhost:8080/",
          "height": 0
        },
        "id": "UystySvYaX8R",
        "outputId": "31205812-51f1-41fd-e719-b4aa975d32ea"
      },
      "execution_count": 10,
      "outputs": [
        {
          "output_type": "execute_result",
          "data": {
            "text/plain": [
              "array([1., 1., 1.])"
            ]
          },
          "metadata": {},
          "execution_count": 10
        }
      ]
    },
    {
      "cell_type": "code",
      "source": [
        "np.ones((4,4))"
      ],
      "metadata": {
        "colab": {
          "base_uri": "https://localhost:8080/",
          "height": 0
        },
        "id": "mmz0_ikpajVs",
        "outputId": "062e7a72-1c8d-4b2a-ca2c-c122ab7e16f3"
      },
      "execution_count": 11,
      "outputs": [
        {
          "output_type": "execute_result",
          "data": {
            "text/plain": [
              "array([[1., 1., 1., 1.],\n",
              "       [1., 1., 1., 1.],\n",
              "       [1., 1., 1., 1.],\n",
              "       [1., 1., 1., 1.]])"
            ]
          },
          "metadata": {},
          "execution_count": 11
        }
      ]
    },
    {
      "cell_type": "markdown",
      "source": [
        "Linspace(star,end, num of elements)"
      ],
      "metadata": {
        "id": "wSsOj_d1awKm"
      }
    },
    {
      "cell_type": "code",
      "source": [
        "np.linspace(0,10,3)"
      ],
      "metadata": {
        "colab": {
          "base_uri": "https://localhost:8080/",
          "height": 0
        },
        "id": "DHAOrSqvazTn",
        "outputId": "fa0ee293-72dc-4362-8c19-27a985d0f2ed"
      },
      "execution_count": 14,
      "outputs": [
        {
          "output_type": "execute_result",
          "data": {
            "text/plain": [
              "array([ 0.,  5., 10.])"
            ]
          },
          "metadata": {},
          "execution_count": 14
        }
      ]
    },
    {
      "cell_type": "code",
      "source": [
        "np.linspace(0,10,21)"
      ],
      "metadata": {
        "colab": {
          "base_uri": "https://localhost:8080/",
          "height": 0
        },
        "id": "PgQoXOTVbNJ-",
        "outputId": "ed65e4eb-a23e-4de3-8857-ad654ca6bcef"
      },
      "execution_count": 15,
      "outputs": [
        {
          "output_type": "execute_result",
          "data": {
            "text/plain": [
              "array([ 0. ,  0.5,  1. ,  1.5,  2. ,  2.5,  3. ,  3.5,  4. ,  4.5,  5. ,\n",
              "        5.5,  6. ,  6.5,  7. ,  7.5,  8. ,  8.5,  9. ,  9.5, 10. ])"
            ]
          },
          "metadata": {},
          "execution_count": 15
        }
      ]
    },
    {
      "cell_type": "markdown",
      "source": [
        "Ones in diagonal"
      ],
      "metadata": {
        "id": "p3QNUsYhbXVE"
      }
    },
    {
      "cell_type": "code",
      "source": [
        "np.eye(5)"
      ],
      "metadata": {
        "colab": {
          "base_uri": "https://localhost:8080/",
          "height": 0
        },
        "id": "qyuufZC8ba3Q",
        "outputId": "b4690923-f7fd-4ab2-e109-c84a669d2a06"
      },
      "execution_count": 16,
      "outputs": [
        {
          "output_type": "execute_result",
          "data": {
            "text/plain": [
              "array([[1., 0., 0., 0., 0.],\n",
              "       [0., 1., 0., 0., 0.],\n",
              "       [0., 0., 1., 0., 0.],\n",
              "       [0., 0., 0., 1., 0.],\n",
              "       [0., 0., 0., 0., 1.]])"
            ]
          },
          "metadata": {},
          "execution_count": 16
        }
      ]
    },
    {
      "cell_type": "markdown",
      "source": [
        "Random Array"
      ],
      "metadata": {
        "id": "sUy_3O6ebpAv"
      }
    },
    {
      "cell_type": "code",
      "source": [
        "np.random.rand(2)"
      ],
      "metadata": {
        "colab": {
          "base_uri": "https://localhost:8080/",
          "height": 0
        },
        "id": "5-_D7Pz7btc2",
        "outputId": "c5d5bb1d-f156-481d-a66e-8dd1b58cd8f6"
      },
      "execution_count": 17,
      "outputs": [
        {
          "output_type": "execute_result",
          "data": {
            "text/plain": [
              "array([0.38814215, 0.875833  ])"
            ]
          },
          "metadata": {},
          "execution_count": 17
        }
      ]
    },
    {
      "cell_type": "code",
      "source": [
        "np.random.rand(3,4)"
      ],
      "metadata": {
        "colab": {
          "base_uri": "https://localhost:8080/",
          "height": 0
        },
        "id": "wxyJ0WHwb2Vg",
        "outputId": "2f25111f-ff70-4397-ecb9-117f361d55d8"
      },
      "execution_count": 18,
      "outputs": [
        {
          "output_type": "execute_result",
          "data": {
            "text/plain": [
              "array([[0.10711833, 0.53118238, 0.16259283, 0.75768312],\n",
              "       [0.01981636, 0.21414218, 0.18275281, 0.17597736],\n",
              "       [0.57765346, 0.57507768, 0.28719681, 0.08030038]])"
            ]
          },
          "metadata": {},
          "execution_count": 18
        }
      ]
    },
    {
      "cell_type": "markdown",
      "source": [
        "Random standart normal distribution"
      ],
      "metadata": {
        "id": "P6BrQSU_cOCD"
      }
    },
    {
      "cell_type": "code",
      "source": [
        "np.random.randn(5,5)"
      ],
      "metadata": {
        "colab": {
          "base_uri": "https://localhost:8080/",
          "height": 0
        },
        "id": "lW4rjVSicATd",
        "outputId": "deb2c816-2a84-4cb3-fa99-8da191da3f45"
      },
      "execution_count": 19,
      "outputs": [
        {
          "output_type": "execute_result",
          "data": {
            "text/plain": [
              "array([[-0.56845577,  0.68748766,  0.17090491, -0.76924982,  1.09469952],\n",
              "       [-0.68912277,  0.40498659,  0.1986815 , -0.13803434,  1.96421982],\n",
              "       [-2.16144963,  0.78291276, -0.30833963,  0.2266094 , -0.53573596],\n",
              "       [ 1.20335898, -0.57132891,  1.80518973,  0.24577615, -0.58980043],\n",
              "       [-0.58022462,  0.40241707,  0.63164813,  0.79212738, -1.25995303]])"
            ]
          },
          "metadata": {},
          "execution_count": 19
        }
      ]
    },
    {
      "cell_type": "markdown",
      "source": [
        "Generates random integers using NumPy's randint function"
      ],
      "metadata": {
        "id": "7vnN_UKmc0Rv"
      }
    },
    {
      "cell_type": "code",
      "source": [
        "np.random.randint(1,10)"
      ],
      "metadata": {
        "colab": {
          "base_uri": "https://localhost:8080/",
          "height": 0
        },
        "id": "7mTwBAf_cVph",
        "outputId": "0cb0a1b1-cf6a-448d-8c02-47a40a60e54d"
      },
      "execution_count": 21,
      "outputs": [
        {
          "output_type": "execute_result",
          "data": {
            "text/plain": [
              "3"
            ]
          },
          "metadata": {},
          "execution_count": 21
        }
      ]
    },
    {
      "cell_type": "code",
      "source": [
        "np.random.randint(1,10,(2,3))"
      ],
      "metadata": {
        "colab": {
          "base_uri": "https://localhost:8080/",
          "height": 0
        },
        "id": "LpsODpoAc6ew",
        "outputId": "098597f2-c33c-4041-d32f-a59d013243ff"
      },
      "execution_count": 22,
      "outputs": [
        {
          "output_type": "execute_result",
          "data": {
            "text/plain": [
              "array([[9, 2, 2],\n",
              "       [1, 3, 1]])"
            ]
          },
          "metadata": {},
          "execution_count": 22
        }
      ]
    },
    {
      "cell_type": "markdown",
      "source": [
        "Sets the random seed to 42 using NumPy and generates an array of four random floats between 0 and 1 using rand()"
      ],
      "metadata": {
        "id": "VBBGWuV7dZxy"
      }
    },
    {
      "cell_type": "code",
      "source": [
        "np.random.seed(42)\n",
        "np.random.rand(4)"
      ],
      "metadata": {
        "colab": {
          "base_uri": "https://localhost:8080/",
          "height": 0
        },
        "id": "0MD569ZMdEVc",
        "outputId": "8fa479de-f577-4270-be90-d536c86a80a8"
      },
      "execution_count": 23,
      "outputs": [
        {
          "output_type": "execute_result",
          "data": {
            "text/plain": [
              "array([0.37454012, 0.95071431, 0.73199394, 0.59865848])"
            ]
          },
          "metadata": {},
          "execution_count": 23
        }
      ]
    },
    {
      "cell_type": "markdown",
      "source": [
        "NOTE: without seed np will generate random values"
      ],
      "metadata": {
        "id": "CDjrPIxgdr_O"
      }
    },
    {
      "cell_type": "code",
      "source": [
        "np.random.rand(4)"
      ],
      "metadata": {
        "colab": {
          "base_uri": "https://localhost:8080/",
          "height": 0
        },
        "id": "TIjYFdbMdfZM",
        "outputId": "e5582d9b-1d21-412f-e33a-cfe9d04089c5"
      },
      "execution_count": 24,
      "outputs": [
        {
          "output_type": "execute_result",
          "data": {
            "text/plain": [
              "array([0.15601864, 0.15599452, 0.05808361, 0.86617615])"
            ]
          },
          "metadata": {},
          "execution_count": 24
        }
      ]
    },
    {
      "cell_type": "markdown",
      "source": [
        "Creates a NumPy array 'arr' containing integers from 0 to 24 using arange()."
      ],
      "metadata": {
        "id": "xgpajcHkebpr"
      }
    },
    {
      "cell_type": "code",
      "source": [
        "arr =  np.arange(25)"
      ],
      "metadata": {
        "id": "GQ6_X1XDd2zq"
      },
      "execution_count": 28,
      "outputs": []
    },
    {
      "cell_type": "markdown",
      "source": [
        "Generates a NumPy array 'ranarr' with 10 random integers between 0 (inclusive) and 50 (exclusive) using randint()."
      ],
      "metadata": {
        "id": "Tv7GwWeselIG"
      }
    },
    {
      "cell_type": "code",
      "source": [
        "ranarr = np.random.randint(0,50,10)"
      ],
      "metadata": {
        "id": "M-WZZXwKd9tN"
      },
      "execution_count": 29,
      "outputs": []
    },
    {
      "cell_type": "code",
      "source": [
        "arr"
      ],
      "metadata": {
        "colab": {
          "base_uri": "https://localhost:8080/",
          "height": 0
        },
        "id": "cqn_fPYgeR5U",
        "outputId": "7fd8c6c6-5a2a-40cc-dc6d-c68ae205e9fd"
      },
      "execution_count": 30,
      "outputs": [
        {
          "output_type": "execute_result",
          "data": {
            "text/plain": [
              "array([ 0,  1,  2,  3,  4,  5,  6,  7,  8,  9, 10, 11, 12, 13, 14, 15, 16,\n",
              "       17, 18, 19, 20, 21, 22, 23, 24])"
            ]
          },
          "metadata": {},
          "execution_count": 30
        }
      ]
    },
    {
      "cell_type": "code",
      "source": [
        "ranarr"
      ],
      "metadata": {
        "colab": {
          "base_uri": "https://localhost:8080/",
          "height": 0
        },
        "id": "Z7YqZWOKev88",
        "outputId": "96b48af1-67aa-49a4-c11a-1e61c5a1db50"
      },
      "execution_count": 31,
      "outputs": [
        {
          "output_type": "execute_result",
          "data": {
            "text/plain": [
              "array([ 1, 20, 32, 11, 21, 43, 24, 48, 26, 41])"
            ]
          },
          "metadata": {},
          "execution_count": 31
        }
      ]
    },
    {
      "cell_type": "markdown",
      "source": [
        "Finding the shape"
      ],
      "metadata": {
        "id": "6hKQuS6Be71Y"
      }
    },
    {
      "cell_type": "code",
      "source": [
        "arr.shape"
      ],
      "metadata": {
        "colab": {
          "base_uri": "https://localhost:8080/",
          "height": 0
        },
        "id": "PHWtX8ZGe3oq",
        "outputId": "f91df8a4-6fd2-4ce1-aa42-98472d2f7584"
      },
      "execution_count": 32,
      "outputs": [
        {
          "output_type": "execute_result",
          "data": {
            "text/plain": [
              "(25,)"
            ]
          },
          "metadata": {},
          "execution_count": 32
        }
      ]
    },
    {
      "cell_type": "markdown",
      "source": [
        "Reshape"
      ],
      "metadata": {
        "id": "FEQN5C1Je_8O"
      }
    },
    {
      "cell_type": "code",
      "source": [
        "arr.reshape(5,5)"
      ],
      "metadata": {
        "colab": {
          "base_uri": "https://localhost:8080/",
          "height": 0
        },
        "id": "KHIscNr4fBPK",
        "outputId": "697c2f22-04a0-4d10-8724-a970ead9c26d"
      },
      "execution_count": 33,
      "outputs": [
        {
          "output_type": "execute_result",
          "data": {
            "text/plain": [
              "array([[ 0,  1,  2,  3,  4],\n",
              "       [ 5,  6,  7,  8,  9],\n",
              "       [10, 11, 12, 13, 14],\n",
              "       [15, 16, 17, 18, 19],\n",
              "       [20, 21, 22, 23, 24]])"
            ]
          },
          "metadata": {},
          "execution_count": 33
        }
      ]
    },
    {
      "cell_type": "markdown",
      "source": [
        "This does not change the original arr, calling arr to confirm"
      ],
      "metadata": {
        "id": "iecD89CUfKHT"
      }
    },
    {
      "cell_type": "code",
      "source": [
        "arr"
      ],
      "metadata": {
        "colab": {
          "base_uri": "https://localhost:8080/",
          "height": 0
        },
        "id": "UZS8L-2lfPik",
        "outputId": "3ecbcfc5-5bb3-49a0-d1b2-3f18df8d0381"
      },
      "execution_count": 34,
      "outputs": [
        {
          "output_type": "execute_result",
          "data": {
            "text/plain": [
              "array([ 0,  1,  2,  3,  4,  5,  6,  7,  8,  9, 10, 11, 12, 13, 14, 15, 16,\n",
              "       17, 18, 19, 20, 21, 22, 23, 24])"
            ]
          },
          "metadata": {},
          "execution_count": 34
        }
      ]
    },
    {
      "cell_type": "markdown",
      "source": [
        "This is to permanently reshaping"
      ],
      "metadata": {
        "id": "N6zhcyydfhwF"
      }
    },
    {
      "cell_type": "code",
      "source": [
        "arr = arr.reshape(5,5)"
      ],
      "metadata": {
        "id": "4-4CO1aofbdD"
      },
      "execution_count": 36,
      "outputs": []
    },
    {
      "cell_type": "code",
      "source": [
        "arr"
      ],
      "metadata": {
        "colab": {
          "base_uri": "https://localhost:8080/",
          "height": 0
        },
        "id": "U8Gxi4_EfoQU",
        "outputId": "d9ab21d9-5cb1-4b68-de09-f79b025abc28"
      },
      "execution_count": 37,
      "outputs": [
        {
          "output_type": "execute_result",
          "data": {
            "text/plain": [
              "array([[ 0,  1,  2,  3,  4],\n",
              "       [ 5,  6,  7,  8,  9],\n",
              "       [10, 11, 12, 13, 14],\n",
              "       [15, 16, 17, 18, 19],\n",
              "       [20, 21, 22, 23, 24]])"
            ]
          },
          "metadata": {},
          "execution_count": 37
        }
      ]
    },
    {
      "cell_type": "markdown",
      "source": [
        "Max, Min, and their location"
      ],
      "metadata": {
        "id": "h0dDgrdzf0R6"
      }
    },
    {
      "cell_type": "code",
      "source": [
        "ranarr.max()"
      ],
      "metadata": {
        "colab": {
          "base_uri": "https://localhost:8080/",
          "height": 0
        },
        "id": "GlUw6Vpdf6vt",
        "outputId": "71d9bc27-13ad-4d26-c7d3-cbccd2fbb126"
      },
      "execution_count": 38,
      "outputs": [
        {
          "output_type": "execute_result",
          "data": {
            "text/plain": [
              "48"
            ]
          },
          "metadata": {},
          "execution_count": 38
        }
      ]
    },
    {
      "cell_type": "code",
      "source": [
        "ranarr.argmax()"
      ],
      "metadata": {
        "colab": {
          "base_uri": "https://localhost:8080/",
          "height": 0
        },
        "id": "8TMgkr95gA88",
        "outputId": "a9cb2e90-715d-4418-aece-d4a43d2bc04d"
      },
      "execution_count": 39,
      "outputs": [
        {
          "output_type": "execute_result",
          "data": {
            "text/plain": [
              "7"
            ]
          },
          "metadata": {},
          "execution_count": 39
        }
      ]
    },
    {
      "cell_type": "code",
      "source": [
        "ranarr.min()"
      ],
      "metadata": {
        "colab": {
          "base_uri": "https://localhost:8080/",
          "height": 0
        },
        "id": "u9hoL6z7gHoZ",
        "outputId": "10d4a8bc-a350-411f-eb54-ec6e83acdc8c"
      },
      "execution_count": 40,
      "outputs": [
        {
          "output_type": "execute_result",
          "data": {
            "text/plain": [
              "1"
            ]
          },
          "metadata": {},
          "execution_count": 40
        }
      ]
    },
    {
      "cell_type": "code",
      "source": [
        "ranarr.argmin ()"
      ],
      "metadata": {
        "colab": {
          "base_uri": "https://localhost:8080/",
          "height": 0
        },
        "id": "YAsJOtBggMIo",
        "outputId": "69cfae32-f861-4865-9d16-a71f6a6912e6"
      },
      "execution_count": 41,
      "outputs": [
        {
          "output_type": "execute_result",
          "data": {
            "text/plain": [
              "0"
            ]
          },
          "metadata": {},
          "execution_count": 41
        }
      ]
    },
    {
      "cell_type": "markdown",
      "source": [
        "To find data type"
      ],
      "metadata": {
        "id": "tgN95orkggMG"
      }
    },
    {
      "cell_type": "code",
      "source": [
        "ranarr.dtype"
      ],
      "metadata": {
        "colab": {
          "base_uri": "https://localhost:8080/"
        },
        "id": "docBRwBqgXyR",
        "outputId": "02e09d82-16e2-491b-f585-14e04f5673e4"
      },
      "execution_count": 43,
      "outputs": [
        {
          "output_type": "execute_result",
          "data": {
            "text/plain": [
              "dtype('int64')"
            ]
          },
          "metadata": {},
          "execution_count": 43
        }
      ]
    }
  ]
}